{
 "cells": [
  {
   "cell_type": "markdown",
   "id": "92c8072b-f833-4a6f-99a8-8801028d8681",
   "metadata": {},
   "source": [
    "# TECHNIKI PROGRAMOWANIA - projekt 3\n",
    "\n",
    "### Kewin Kisiel 197866\n",
    "### Mateusz Kuczerowski 197900\n",
    "Wykorzystane biblioteki:\n",
    "- matplotplusplus\n",
    "- AudioFile\n",
    "- pybind11"
   ]
  },
  {
   "cell_type": "markdown",
   "id": "a237361f-c075-4384-9ec9-b690e3a98a41",
   "metadata": {},
   "source": [
    "# Wizualizacja sygnałów"
   ]
  },
  {
   "cell_type": "markdown",
   "id": "d9923dd9-7026-4bdf-9217-46a20e52bf86",
   "metadata": {},
   "source": [
    "### Wizualizacja sygnału sinusoidalnego"
   ]
  },
  {
   "cell_type": "code",
   "execution_count": 3,
   "id": "557f6270-5683-4a67-ba52-b7972877af9b",
   "metadata": {},
   "outputs": [],
   "source": [
    "import scikit_build_example as sbe\n",
    "samples = sbe.generateSignal(sbe.SignalType.SINUS, frequency=2.5, amplitude=2.0, duration=2.0, sampleRate=1000.0)\n",
    "sbe.displaySignal(samples, sampleRate=1000.0, factor=1)\n",
    "# wykres zapisany jako \"sinus.png\""
   ]
  },
  {
   "cell_type": "markdown",
   "id": "b51bf21d-24de-4c22-875c-4a600f0c5313",
   "metadata": {},
   "source": [
    "<img src=\"sinus.png\"/>"
   ]
  },
  {
   "cell_type": "markdown",
   "id": "1f623fcb-698c-4dcd-9bda-50717f9ca950",
   "metadata": {},
   "source": [
    "### Wizualizacja sygnału cosinusoidalnego"
   ]
  },
  {
   "cell_type": "code",
   "execution_count": 5,
   "id": "121c5f6f-b9d2-41b1-b1c5-baedf9bf41fb",
   "metadata": {},
   "outputs": [],
   "source": [
    "samples = sbe.generateSignal(sbe.SignalType.COSINUS, frequency=2.5, amplitude=2.0, duration=2.0, sampleRate=1000.0)\n",
    "sbe.displaySignal(samples, sampleRate=1000.0, factor=1)\n",
    "# wykres zapisany jako \"cosinus.png\""
   ]
  },
  {
   "cell_type": "markdown",
   "id": "6b6df70c-664e-492a-9b65-27489a86c230",
   "metadata": {},
   "source": [
    "<img src=\"cosinus.png\"/>"
   ]
  },
  {
   "cell_type": "markdown",
   "id": "f213869d-2dc1-43a5-971a-d67e311ce925",
   "metadata": {},
   "source": [
    "### Wizualizacja sygnału prostokątnego"
   ]
  },
  {
   "cell_type": "code",
   "execution_count": 6,
   "id": "88a072d8-9509-4a5d-a0fe-291e29ab2d7a",
   "metadata": {},
   "outputs": [],
   "source": [
    "samples = sbe.generateSignal(sbe.SignalType.PROSTOKATNY, frequency=2.5, amplitude=2.0, duration=2.0, sampleRate=1000.0)\n",
    "sbe.displaySignal(samples, sampleRate=1000.0, factor=1)\n",
    "# wykres zapisany jako \"prostokatny.png\""
   ]
  },
  {
   "cell_type": "markdown",
   "id": "ec2f50a1-2408-40dc-9c8a-2d90e484fd5f",
   "metadata": {},
   "source": [
    "<img src=\"prostokatny.png\"/>"
   ]
  },
  {
   "cell_type": "markdown",
   "id": "75010514-47ee-48e1-b59c-7a7c3df62db9",
   "metadata": {},
   "source": [
    "### Wizualizacja sygnału piłokształtnego"
   ]
  },
  {
   "cell_type": "code",
   "execution_count": 7,
   "id": "096cc6c6-df92-41f8-af77-66f6810f4f5a",
   "metadata": {},
   "outputs": [],
   "source": [
    "samples = sbe.generateSignal(sbe.SignalType.PILOKSZTALTNY, frequency=2.5, amplitude=2.0, duration=2.0, sampleRate=1000.0)\n",
    "sbe.displaySignal(samples, sampleRate=1000.0, factor=1)\n",
    "# wykres zapisany jako \"piloksztaltny.png\""
   ]
  },
  {
   "cell_type": "markdown",
   "id": "851fb6de-2c53-45c1-85d5-37e05ff01c5b",
   "metadata": {},
   "source": [
    "<img src=\"piloksztaltny.png\"/>"
   ]
  },
  {
   "cell_type": "markdown",
   "id": "37e9aed0-a2c4-48e1-aa26-80ad2ce50301",
   "metadata": {},
   "source": [
    "### Wizualizacja sygnału trójkątnego"
   ]
  },
  {
   "cell_type": "code",
   "execution_count": 8,
   "id": "d1c87a97-b12e-4d0e-8aa8-76eee660c832",
   "metadata": {},
   "outputs": [],
   "source": [
    "samples = sbe.generateSignal(sbe.SignalType.TROJKATNY, frequency=2.5, amplitude=2.0, duration=2.0, sampleRate=1000.0)\n",
    "sbe.displaySignal(samples, sampleRate=1000.0, factor=1)\n",
    "# wykres zapisany jako \"trojkatny.png\""
   ]
  },
  {
   "cell_type": "markdown",
   "id": "57bef07f-8f69-4f97-bd47-8bae661c4eef",
   "metadata": {},
   "source": [
    "<img src=\"trojkatny.png\"/>"
   ]
  },
  {
   "cell_type": "markdown",
   "id": "3edd56eb-aa22-48f7-8758-6e2abbadee3e",
   "metadata": {},
   "source": [
    "# Wizualizacja pliku audio \"test-audio.wav\""
   ]
  },
  {
   "cell_type": "code",
   "execution_count": 9,
   "id": "057a1ff1-2d5c-48e3-8c7e-a7e8617eafc3",
   "metadata": {},
   "outputs": [],
   "source": [
    "sampleRate = 100\n",
    "samples = sbe.loadAudioFile(\"C:/Users/turbi/OneDrive/Pulpit/projekt3/scikit_build_example/AudioFile/examples/test-audio.wav\", sampleRate)\n",
    "sbe.displaySignal(samples, sampleRate, factor=1)\n",
    "# wykres zapisany jako \"test-audio.png\""
   ]
  },
  {
   "cell_type": "markdown",
   "id": "df0bd810-3079-446b-b4a1-1019b115a1bb",
   "metadata": {},
   "source": [
    "<img src=\"test-audio.png\"/>"
   ]
  },
  {
   "cell_type": "markdown",
   "id": "906220c9-ed68-4c17-9a38-b7f711bb6f79",
   "metadata": {},
   "source": [
    "# DFT (Discrete Fourier Transform)"
   ]
  },
  {
   "cell_type": "markdown",
   "id": "c15bd8d5-18f7-492c-8120-79563b3eea79",
   "metadata": {},
   "source": [
    "W celu sprawdzenia poprawności implementacji DFT wykorzystamy kilka przykładowych przebiegów:\n",
    "- sinusoidalny\n",
    "- plik audio"
   ]
  },
  {
   "cell_type": "markdown",
   "id": "76dd7074-e699-474c-a45e-e40a13eb6923",
   "metadata": {},
   "source": [
    "### DFT dla sygnału sinusoidalnego"
   ]
  },
  {
   "cell_type": "code",
   "execution_count": 3,
   "id": "b526f421-8476-4b62-8f90-46af2ea268c7",
   "metadata": {},
   "outputs": [],
   "source": [
    "sampleRate = 100\n",
    "samples = sbe.generateSignal(sbe.SignalType.SINUS, frequency=260, amplitude=2.0, duration=2.0, sampleRate=1000)\n",
    "transformed = sbe.DFT(samples)\n",
    "sbe.displayDFT(transformed, sampleRate = 1000, factor=1)\n",
    "# wykres zapisany jako \"DFT-sinus.png\""
   ]
  },
  {
   "cell_type": "markdown",
   "id": "362c8a18-eafa-4e1c-920e-b41e6d605af4",
   "metadata": {},
   "source": [
    "<img src=\"DFT-sinus.png\"/>"
   ]
  },
  {
   "cell_type": "markdown",
   "id": "1408d401-d56a-44cc-8b6d-8de3adf02c1a",
   "metadata": {},
   "source": [
    "### DFT dla pliku audio"
   ]
  },
  {
   "cell_type": "code",
   "execution_count": null,
   "id": "3d133126-ff9e-4754-8ee8-9aecdc0c06bf",
   "metadata": {},
   "outputs": [],
   "source": [
    "# wykres zapisany jako \"DFT-test-audio.png\""
   ]
  },
  {
   "cell_type": "markdown",
   "id": "12dbf4cf-c133-41c7-b44b-c779affc8a4e",
   "metadata": {},
   "source": [
    "<img src=\"DFT-test-audio.png\"/>"
   ]
  },
  {
   "cell_type": "markdown",
   "id": "c33f71db-b200-41b5-ad2b-196e34409d43",
   "metadata": {},
   "source": [
    "# IDFT (Inverse Discrete Fourier Transform)"
   ]
  },
  {
   "cell_type": "markdown",
   "id": "5bc7b4f2-936e-4e78-9086-4c2192669503",
   "metadata": {},
   "source": [
    "W celu sprawdzenia poprawności implementacji IDFT wykorzystamy kilka przykładowych przebiegów:\n",
    "- sinusoidalny\n",
    "- plik audio"
   ]
  },
  {
   "cell_type": "markdown",
   "id": "2d79c1bb-9bdc-4895-af72-cdefe256c9bc",
   "metadata": {},
   "source": [
    "### IDFT dla sygnału sinusoidalnego"
   ]
  },
  {
   "cell_type": "code",
   "execution_count": 10,
   "id": "22aa0598-dffc-4374-9910-063be9e17040",
   "metadata": {},
   "outputs": [],
   "source": [
    "# wykres zapisany jako \"IDFT-sinus.png\""
   ]
  },
  {
   "cell_type": "markdown",
   "id": "ce290371-5740-4498-a304-8cc558cc2bb8",
   "metadata": {},
   "source": [
    "<img src=\"IDFT-sinus.png\"/>"
   ]
  },
  {
   "cell_type": "markdown",
   "id": "90bc06dd-a33e-414d-b090-c9711f985995",
   "metadata": {},
   "source": [
    "### IDFT dla pliku audio"
   ]
  },
  {
   "cell_type": "code",
   "execution_count": 8,
   "id": "ace5c6f3-b8e5-4697-bd42-1739ad02ead3",
   "metadata": {},
   "outputs": [],
   "source": [
    "# wykres zapisany jako \"IDFT-test-audio.png\""
   ]
  },
  {
   "cell_type": "markdown",
   "id": "45b3fbfc-bfe5-4489-9464-bbcb23aabcb7",
   "metadata": {},
   "source": [
    "<img src=\"IDFT-test-audio.png\"/>"
   ]
  },
  {
   "cell_type": "markdown",
   "id": "1fd5e3d0-eb0e-4969-aa3d-27a4791d6706",
   "metadata": {},
   "source": [
    "# Progowanie sygnału"
   ]
  },
  {
   "cell_type": "markdown",
   "id": "4d0f386d-4aeb-473e-9c47-a25c7054b191",
   "metadata": {},
   "source": [
    "W celu sprawdzenia poprawności progowania sygnału wykorzystamy kilka przykładowych przebiegów:\n",
    "- sinusoidalny\n",
    "- plik audio"
   ]
  },
  {
   "cell_type": "markdown",
   "id": "7918f5d3-8a0a-4537-aa6f-5e4f562c46db",
   "metadata": {},
   "source": [
    "### Progowanie sygnału sinusoidalnego"
   ]
  },
  {
   "cell_type": "code",
   "execution_count": 4,
   "id": "551bdf66-c64b-4505-8bd6-04feab310a3b",
   "metadata": {},
   "outputs": [],
   "source": [
    "samples = sbe.generateSignal(sbe.SignalType.SINUS, frequency=2.5, amplitude=2.0, duration=2.0, sampleRate=1000)\n",
    "thresholded = sbe.thresholdSignal(samples, threshold=0.5)\n",
    "sbe.displaySignal(thresholded, sampleRate=1000, factor=1)\n",
    "# wykres zapisany jako \"progowanie-sinus.png\""
   ]
  },
  {
   "cell_type": "markdown",
   "id": "1e9d278c-65f0-4eb3-925c-fb2c44826c88",
   "metadata": {},
   "source": [
    "<img src=\"progowanie-sinus.png\"/>"
   ]
  },
  {
   "cell_type": "markdown",
   "id": "03082e7e-65b2-465b-81cf-ec3b69d150ff",
   "metadata": {},
   "source": [
    "### Progowanie pliku audio"
   ]
  },
  {
   "cell_type": "code",
   "execution_count": 7,
   "id": "279e2cf6-77d1-4d39-8127-06f2aba59dd5",
   "metadata": {},
   "outputs": [],
   "source": [
    "# wykres zapisany jako \"progowanie-test-audio.png\""
   ]
  },
  {
   "cell_type": "markdown",
   "id": "50436e17-abe8-440f-bdce-fb26663594e8",
   "metadata": {},
   "source": [
    "<img src=\"progowanie-test-audio.png\"/>"
   ]
  }
 ],
 "metadata": {
  "kernelspec": {
   "display_name": "Python 3 (ipykernel)",
   "language": "python",
   "name": "python3"
  },
  "language_info": {
   "codemirror_mode": {
    "name": "ipython",
    "version": 3
   },
   "file_extension": ".py",
   "mimetype": "text/x-python",
   "name": "python",
   "nbconvert_exporter": "python",
   "pygments_lexer": "ipython3",
   "version": "3.12.3"
  }
 },
 "nbformat": 4,
 "nbformat_minor": 5
}
